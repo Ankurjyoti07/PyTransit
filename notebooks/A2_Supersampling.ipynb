{
 "cells": [
  {
   "cell_type": "markdown",
   "metadata": {},
   "source": [
    "# Supersampling\n",
    "\n",
    "The photometric datapoints we're dealing with are always integrations over time. If the exposure time is long, such as with *Kepler* long cadence data, the light curve features are smeared, and we need to include the effect from the long exposure time into the light curve model. This can be done easily by supersampling the model (that is, calculating the model for several time samples inside each exposure and averaging the results).  \n",
    "\n",
    "*PyTransit* implements a basic supersampler in `pytransit.supersampler.SuperSampler` to facilitate transit model supersampling. You don't generally need to initialize or call the supersampler manually, since the transit model uses it automatically, but knowing how to use it may come handy in some more advanced situations.\n",
    "\n",
    "`SuperSampler` is initialized as `SuperSampler(nsamples, exptime)`, where `nsamples` is the number of subsamples to create per exposure, and `exptime` is the exposure duration."
   ]
  },
  {
   "cell_type": "code",
   "execution_count": 28,
   "metadata": {
    "collapsed": false,
    "scrolled": true
   },
   "outputs": [
    {
     "name": "stdout",
     "output_type": "stream",
     "text": [
      "Populating the interactive namespace from numpy and matplotlib\n"
     ]
    }
   ],
   "source": [
    "%pylab inline\n",
    "from pytransit.supersampler import SuperSampler"
   ]
  },
  {
   "cell_type": "code",
   "execution_count": 29,
   "metadata": {
    "collapsed": true
   },
   "outputs": [],
   "source": [
    "sampler = SuperSampler(nsamples=5, exptime=1)"
   ]
  },
  {
   "cell_type": "markdown",
   "metadata": {},
   "source": [
    "The subsample positions are calculated as\n",
    "$$s_i = t + \\mathbf{s} \\times t_e$$\n",
    "where $\\mathbf{s}$ are the subsample positions normalized to [-0.5, 0.5], and can be accessed from the sampler"
   ]
  },
  {
   "cell_type": "code",
   "execution_count": 30,
   "metadata": {
    "collapsed": false
   },
   "outputs": [
    {
     "data": {
      "text/plain": [
       "array([-0.4, -0.2,  0. ,  0.2,  0.4])"
      ]
     },
     "execution_count": 30,
     "metadata": {},
     "output_type": "execute_result"
    }
   ],
   "source": [
    "sampler.sample_positions"
   ]
  },
  {
   "cell_type": "markdown",
   "metadata": {},
   "source": [
    "After the initialization, the `SuperSampler` offers two methods \n",
    "\n",
    " - `sample(times[npt])` $\\rightarrow$ `array[nsamples*npt]`\n",
    " - `average(flux[nsamples*npt])` $\\rightarrow$ `array[npt]`\n",
    " \n",
    "Sample is used to create a set of supersampled time stamps where `times` is an 1D array storing the exposure center times and `expdur` is the exposure duration. After the model has been evaluated for the supersampled time stamps, `average` is used to compute the per-exposure averaged model."
   ]
  },
  {
   "cell_type": "code",
   "execution_count": 31,
   "metadata": {
    "collapsed": true
   },
   "outputs": [],
   "source": [
    "time_o = arange(0,3).astype('d')\n",
    "time_s = sampler.sample(time_o)"
   ]
  },
  {
   "cell_type": "code",
   "execution_count": 34,
   "metadata": {
    "collapsed": false
   },
   "outputs": [
    {
     "data": {
      "image/png": "[encoded data removed]",
      "text/plain": [
       "<matplotlib.figure.Figure at 0x111506ef0>"
      ]
     },
     "metadata": {},
     "output_type": "display_data"
    }
   ],
   "source": [
    "plot(time_o, full_like(time_o, 0.99), 'o')\n",
    "plot(time_s, full_like(time_s, 1.01), '.')\n",
    "ylim(0.98,1.03);"
   ]
  },
  {
   "cell_type": "code",
   "execution_count": 56,
   "metadata": {
    "collapsed": false
   },
   "outputs": [
    {
     "data": {
      "text/plain": [
       "[<matplotlib.lines.Line2D at 0x112a91da0>]"
      ]
     },
     "execution_count": 56,
     "metadata": {},
     "output_type": "execute_result"
    },
    {
     "data": {
      "image/png": "[encoded data removed]",
      "text/plain": [
       "<matplotlib.figure.Figure at 0x1129e3390>"
      ]
     },
     "metadata": {},
     "output_type": "display_data"
    }
   ],
   "source": [
    "def lcfun(time):\n",
    "    return (time > 1.1).astype('d')\n",
    "\n",
    "plot(time_o, lcfun(time_o), 'o')\n",
    "plot(time_s, lcfun(time_s), '.')\n",
    "plot(time_o, sampler.average(lcfun(time_s)), 'ko', ms=10)"
   ]
  },
  {
   "cell_type": "markdown",
   "metadata": {},
   "source": [
    "---\n",
    "\n",
    "<center> &copy; 2017 Hannu Parviainen </center>"
   ]
  }
 ],
 "metadata": {
  "kernelspec": {
   "display_name": "Python [conda root]",
   "language": "python",
   "name": "conda-root-py"
  },
  "language_info": {
   "codemirror_mode": {
    "name": "ipython",
    "version": 3
   },
   "file_extension": ".py",
   "mimetype": "text/x-python",
   "name": "python",
   "nbconvert_exporter": "python",
   "pygments_lexer": "ipython3",
   "version": "3.5.2"
  }
 },
 "nbformat": 4,
 "nbformat_minor": 2
}
