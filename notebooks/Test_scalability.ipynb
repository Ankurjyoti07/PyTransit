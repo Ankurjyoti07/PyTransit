{
 "metadata": {
  "name": "",
  "signature": "sha256:6edb0dcf0baad5f8e3a65ae8b1aa0b1a8cee60f5ff8b1cdfeb59fd340f8c697c"
 },
 "nbformat": 3,
 "nbformat_minor": 0,
 "worksheets": [
  {
   "cells": [
    {
     "cell_type": "heading",
     "level": 1,
     "metadata": {},
     "source": [
      "PyTransit scalability tests"
     ]
    },
    {
     "cell_type": "markdown",
     "metadata": {},
     "source": [
      "The light curve calculation speed depends on\n",
      "\n",
      " - total number of datapoints\n",
      " - number of in-transit points\n",
      " - number of passbands\n",
      " - number of threads"
     ]
    },
    {
     "cell_type": "code",
     "collapsed": false,
     "input": [
      "from __future__ import division\n",
      "import numpy as np\n",
      "import matplotlib.pyplot as pl\n",
      "import pandas as pd\n",
      "from time import time\n",
      "from pytransit.orbits_f import orbits as of\n",
      "from pytransit import Gimenez, MandelAgol\n",
      "from plots import AAOCW"
     ],
     "language": "python",
     "metadata": {},
     "outputs": [],
     "prompt_number": 14
    },
    {
     "cell_type": "code",
     "collapsed": false,
     "input": [
      "nrep = 500\n",
      "k, t0, p, a, i = 0.1, 1, 4, 12, 0.48*np.pi\n",
      "us = np.array([[0.04*iu, 0.025*i] for iu in range(20)])\n",
      "u_slices = [s_[:1,:],s_[:4,:],s_[:10,:],s_[:,:]]\n",
      "ntra  = array([1, 5, 10, 20, 50, 100, 1000])\n",
      "\n",
      "times_dense  = [tile(linspace(0.9,1.1,200), [ntr]) for ntr in ntra]\n",
      "times_sparse = [tile(linspace(0.0,2.0,200), [ntr]) for ntr in ntra]\n",
      "zs_dense     = [of.z_circular(t, t0, p, a, i, nthreads=4) for t in times_dense]\n",
      "zs_sparse    = [of.z_circular(t, t0, p, a, i, nthreads=4) for t in times_sparse]\n",
      "\n",
      "npt = array([t.size for t in times_dense])"
     ],
     "language": "python",
     "metadata": {},
     "outputs": [],
     "prompt_number": 73
    },
    {
     "cell_type": "code",
     "collapsed": false,
     "input": [
      "print npt"
     ],
     "language": "python",
     "metadata": {},
     "outputs": [
      {
       "output_type": "stream",
       "stream": "stdout",
       "text": [
        "[   200   1000   2000   4000  10000  20000 200000]\n"
       ]
      }
     ],
     "prompt_number": 74
    },
    {
     "cell_type": "code",
     "collapsed": false,
     "input": [
      "print sum(zs_dense[0]  <= 1) / zs_dense[0].size   ## Fraction of in-transit points\n",
      "print sum(zs_sparse[0] <= 1) / zs_sparse[0].size  ## Fraction of in-transit points"
     ],
     "language": "python",
     "metadata": {},
     "outputs": [
      {
       "output_type": "stream",
       "stream": "stdout",
       "text": [
        "0.35\n",
        "0.03\n"
       ]
      }
     ],
     "prompt_number": 75
    },
    {
     "cell_type": "heading",
     "level": 1,
     "metadata": {},
     "source": [
      "Basic scalability"
     ]
    },
    {
     "cell_type": "code",
     "collapsed": false,
     "input": [
      "times_basic_d = zeros([2,4,ntra.size])\n",
      "times_basic_s = zeros([2,4,ntra.size])\n",
      "\n",
      "tt = []\n",
      "\n",
      "for do_lerp in [0]:\n",
      "    m = MandelAgol(nthr=4, lerp=do_lerp)\n",
      "    for iu,usl in enumerate(u_slices):\n",
      "        for intr,ntr in enumerate(ntra):\n",
      "            tstart = time()\n",
      "            for irep in xrange(nrep):\n",
      "                f = m(zs_dense[intr],k,us[usl])\n",
      "            times_basic_d[do_lerp,iu,intr] = (time()-tstart)/nrep\n",
      "            tt.append([do_lerp,iu,intr,(time()-tstart)/nrep])\n",
      "            \n",
      "            tstart = time()\n",
      "            for irep in xrange(nrep):\n",
      "                f = m(zs_sparse[intr],k,us[usl])\n",
      "            times_basic_s[do_lerp,iu,intr] = (time()-tstart)/nrep"
     ],
     "language": "python",
     "metadata": {},
     "outputs": [],
     "prompt_number": 76
    },
    {
     "cell_type": "code",
     "collapsed": false,
     "input": [
      "df = pd.DataFrame(data=tt, columns=['Lerp','iu','intr','mean(time)'], )"
     ],
     "language": "python",
     "metadata": {},
     "outputs": [],
     "prompt_number": 69
    },
    {
     "cell_type": "code",
     "collapsed": false,
     "input": [
      "df[['intr','mean(time)']][(df.iu==0) & (df.Lerp == 0)]"
     ],
     "language": "python",
     "metadata": {},
     "outputs": [
      {
       "html": [
        "<div style=\"max-height:1000px;max-width:1500px;overflow:auto;\">\n",
        "<table border=\"1\" class=\"dataframe\">\n",
        "  <thead>\n",
        "    <tr style=\"text-align: right;\">\n",
        "      <th></th>\n",
        "      <th>intr</th>\n",
        "      <th>mean(time)</th>\n",
        "    </tr>\n",
        "  </thead>\n",
        "  <tbody>\n",
        "    <tr>\n",
        "      <th>0</th>\n",
        "      <td> 0</td>\n",
        "      <td> 0.000533</td>\n",
        "    </tr>\n",
        "    <tr>\n",
        "      <th>1</th>\n",
        "      <td> 1</td>\n",
        "      <td> 0.000157</td>\n",
        "    </tr>\n",
        "    <tr>\n",
        "      <th>2</th>\n",
        "      <td> 2</td>\n",
        "      <td> 0.000247</td>\n",
        "    </tr>\n",
        "    <tr>\n",
        "      <th>3</th>\n",
        "      <td> 3</td>\n",
        "      <td> 0.000482</td>\n",
        "    </tr>\n",
        "    <tr>\n",
        "      <th>4</th>\n",
        "      <td> 4</td>\n",
        "      <td> 0.000676</td>\n",
        "    </tr>\n",
        "    <tr>\n",
        "      <th>5</th>\n",
        "      <td> 5</td>\n",
        "      <td> 0.001002</td>\n",
        "    </tr>\n",
        "    <tr>\n",
        "      <th>6</th>\n",
        "      <td> 6</td>\n",
        "      <td> 0.010131</td>\n",
        "    </tr>\n",
        "  </tbody>\n",
        "</table>\n",
        "</div>"
       ],
       "metadata": {},
       "output_type": "pyout",
       "prompt_number": 72,
       "text": [
        "   intr  mean(time)\n",
        "0     0    0.000533\n",
        "1     1    0.000157\n",
        "2     2    0.000247\n",
        "3     3    0.000482\n",
        "4     4    0.000676\n",
        "5     5    0.001002\n",
        "6     6    0.010131"
       ]
      }
     ],
     "prompt_number": 72
    },
    {
     "cell_type": "code",
     "collapsed": false,
     "input": [
      "times_basic_d = zeros([2,4,ntra.size])\n",
      "times_basic_s = zeros([2,4,ntra.size])\n",
      "\n",
      "for do_lerp in [0,1]:\n",
      "    m = Gimenez(nthr=4, lerp=do_lerp)\n",
      "    for iu,usl in enumerate(u_slices):\n",
      "        for intr,ntr in enumerate(ntra):\n",
      "            tstart = time()\n",
      "            for irep in xrange(nrep):\n",
      "                f = m(zs_dense[intr],k,us[usl])\n",
      "            times_basic_d[do_lerp,iu,intr] = (time()-tstart)/nrep\n",
      "            \n",
      "            tstart = time()\n",
      "            for irep in xrange(nrep):\n",
      "                f = m(zs_sparse[intr],k,us[usl])\n",
      "            times_basic_s[do_lerp,iu,intr] = (time()-tstart)/nrep"
     ],
     "language": "python",
     "metadata": {},
     "outputs": []
    },
    {
     "cell_type": "heading",
     "level": 2,
     "metadata": {},
     "source": [
      "Scalabitily as a function number of points"
     ]
    },
    {
     "cell_type": "code",
     "collapsed": false,
     "input": [
      "fig, ax = subplots(1,2,figsize=(2*AAOCW,0.75*AAOCW), sharey=True)\n",
      "ax[0].loglog(npt, times_basic_d[0,0,:], 'k-', marker='.')\n",
      "ax[0].loglog(npt, times_basic_d[1,0,:], 'k--', marker='.');\n",
      "ax[1].loglog(npt, times_basic_s[0,0,:], 'k-', marker='.')\n",
      "ax[1].loglog(npt, times_basic_s[1,0,:], 'k--', marker='.');\n",
      "setp(ax[0], xlabel='Number of LC points', ylabel='Time [s]', xlim=npt[[0,-1]], title='Dense LC')\n",
      "setp(ax[1], xlabel='Number of LC points', xlim=npt[[0,-1]], title='Sparse LC')\n",
      "fig.tight_layout()"
     ],
     "language": "python",
     "metadata": {},
     "outputs": [
      {
       "metadata": {},
       "output_type": "display_data",
       "png": "[encoded data removed]",
       "text": [
        "<matplotlib.figure.Figure at 0x54dd450>"
       ]
      }
     ],
     "prompt_number": 77
    },
    {
     "cell_type": "heading",
     "level": 2,
     "metadata": {},
     "source": [
      "Scalabitily as a function of simultaneous passbands"
     ]
    },
    {
     "cell_type": "code",
     "collapsed": false,
     "input": [
      "fig, ax = subplots(1,2,figsize=(2*AAOCW,0.75*AAOCW), sharey=True)\n",
      "ax[0].plot([1,4,10,20], times_basic_d[0,:,-1]/times_basic_d[0,0,-1], 'k-', marker='o')\n",
      "ax[0].plot([1,4,10,20], times_basic_d[1,:,-1]/times_basic_d[0,0,-1], 'k--', marker='o');\n",
      "ax[1].plot([1,4,10,20], times_basic_s[0,:,-1]/times_basic_s[0,0,-1], 'k-', marker='o')\n",
      "ax[1].plot([1,4,10,20], times_basic_s[1,:,-1]/times_basic_s[0,0,-1], 'k--', marker='o');\n",
      "setp(ax[0], xlabel='Number of passbands', ylabel='Time / T$_0$', title='Dense LC')\n",
      "setp(ax[1], xlabel='Number of passbands', title='Sparse LC')\n",
      "fig.tight_layout()"
     ],
     "language": "python",
     "metadata": {},
     "outputs": [
      {
       "metadata": {},
       "output_type": "display_data",
       "png": "[encoded data removed]",
       "text": [
        "<matplotlib.figure.Figure at 0x5a1cf50>"
       ]
      }
     ],
     "prompt_number": 78
    },
    {
     "cell_type": "heading",
     "level": 2,
     "metadata": {},
     "source": [
      "Computation time per passband for multiple passbands"
     ]
    },
    {
     "cell_type": "code",
     "collapsed": false,
     "input": [
      "npb = array([1,4,10,20.])\n",
      "\n",
      "def nor(ta):\n",
      "    nta = ta/npb\n",
      "    return nta/nta[0]\n",
      "\n",
      "fig, ax = subplots(1,2,figsize=(2*AAOCW,0.75*AAOCW), sharey=True)\n",
      "ax[0].plot([1,4,10,20], nor(times_basic_d[0,:,-1]), 'k-', marker='o')\n",
      "ax[0].plot([1,4,10,20], nor(times_basic_d[1,:,-1]), 'k--', marker='o');\n",
      "ax[1].plot([1,4,10,20], nor(times_basic_s[0,:,-1]), 'k-', marker='o')\n",
      "ax[1].plot([1,4,10,20], nor(times_basic_s[1,:,-1]), 'k--', marker='o');\n",
      "setp(ax[0], xlabel='Number of passbands', ylabel='Time / passband', title='Dense LC')\n",
      "setp(ax[1], xlabel='Number of passbands', title='Sparse LC')\n",
      "fig.tight_layout()"
     ],
     "language": "python",
     "metadata": {},
     "outputs": [
      {
       "metadata": {},
       "output_type": "display_data",
       "png": "[encoded data removed]",
       "text": [
        "<matplotlib.figure.Figure at 0x44e3b10>"
       ]
      }
     ],
     "prompt_number": 79
    },
    {
     "cell_type": "heading",
     "level": 1,
     "metadata": {},
     "source": [
      "Supersampling efficiency"
     ]
    },
    {
     "cell_type": "heading",
     "level": 1,
     "metadata": {},
     "source": [
      "Threading scalability"
     ]
    },
    {
     "cell_type": "code",
     "collapsed": false,
     "input": [
      "inthtimes_threading_d = zeros([2,4])\n",
      "times_threading_s = zeros([2,4])\n",
      "\n",
      "for do_lerp in [0,1]:\n",
      "    for inth,nth in enumerate([1,2,3,4]):\n",
      "        m = Gimenez(nthr=nth, lerp=do_lerp)\n",
      "\n",
      "        tstart = time()\n",
      "        for irep in xrange(nrep):\n",
      "            f = m(zs_dense[-1],k,us[:2])\n",
      "        times_threading_d[do_lerp,inth] = (time()-tstart)/nrep\n",
      "        \n",
      "        tstart = time()\n",
      "        for irep in xrange(nrep):\n",
      "            f = m(zs_sparse[-1],k,us[:2])\n",
      "        times_threading_s[do_lerp,inth] = (time()-tstart)/nrep"
     ],
     "language": "python",
     "metadata": {},
     "outputs": []
    },
    {
     "cell_type": "code",
     "collapsed": false,
     "input": [
      "nth = [1,2,3,4]\n",
      "plot(nth,times_threading_d[0,:])\n",
      "plot(nth,times_threading_d[1,:])"
     ],
     "language": "python",
     "metadata": {},
     "outputs": [
      {
       "metadata": {},
       "output_type": "pyout",
       "prompt_number": 123,
       "text": [
        "[<matplotlib.lines.Line2D at 0xa0a3690>]"
       ]
      },
      {
       "metadata": {},
       "output_type": "display_data",
       "png": "[encoded data removed]",
       "text": [
        "<matplotlib.figure.Figure at 0xa0a3b50>"
       ]
      }
     ],
     "prompt_number": 123
    },
    {
     "cell_type": "code",
     "collapsed": false,
     "input": [
      "matfrom scipy.io import loadmat"
     ],
     "language": "python",
     "metadata": {},
     "outputs": [],
     "prompt_number": 124
    },
    {
     "cell_type": "code",
     "collapsed": false,
     "input": [
      "loadmat("
     ],
     "language": "python",
     "metadata": {},
     "outputs": []
    }
   ],
   "metadata": {}
  }
 ]
}